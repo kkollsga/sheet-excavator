{
 "cells": [
  {
   "cell_type": "code",
   "execution_count": 1,
   "metadata": {},
   "outputs": [
    {
     "ename": "RuntimeError",
     "evalue": "Error processing files: Missing or invalid \"extractions\" key in extraction details",
     "output_type": "error",
     "traceback": [
      "\u001b[1;31m---------------------------------------------------------------------------\u001b[0m",
      "\u001b[1;31mRuntimeError\u001b[0m                              Traceback (most recent call last)",
      "Cell \u001b[1;32mIn[1], line 11\u001b[0m\n\u001b[0;32m      4\u001b[0m \u001b[38;5;66;03m#files = ['D:\\\\temp\\\\25_2-10 S (Frigg-Gammadelta)_RNB2022.xlsm', 'D:\\\\temp\\\\35_12_2 (Grosbeak)_RNB2022.xlsm', 'D:\\\\temp\\\\Ormen Lange_RNB2022.xlsm', 'D:\\\\temp\\\\Sleipner Vest_RNB2022.xlsm', 'D:\\\\temp\\\\Statfjord_RNB2022.xlsm']\u001b[39;00m\n\u001b[0;32m      5\u001b[0m extraction_details \u001b[38;5;241m=\u001b[39m [\n\u001b[0;32m      6\u001b[0m     {\u001b[38;5;124m\"\u001b[39m\u001b[38;5;124msheets\u001b[39m\u001b[38;5;124m\"\u001b[39m:[\u001b[38;5;124m\"\u001b[39m\u001b[38;5;124mGenerell info og kommentarer\u001b[39m\u001b[38;5;124m\"\u001b[39m], \u001b[38;5;124m\"\u001b[39m\u001b[38;5;124mcells\u001b[39m\u001b[38;5;124m\"\u001b[39m:{\u001b[38;5;124m\"\u001b[39m\u001b[38;5;124mfield\u001b[39m\u001b[38;5;124m\"\u001b[39m: \u001b[38;5;124m\"\u001b[39m\u001b[38;5;124md7\u001b[39m\u001b[38;5;124m\"\u001b[39m, \u001b[38;5;124m\"\u001b[39m\u001b[38;5;124mod-id\u001b[39m\u001b[38;5;124m\"\u001b[39m: \u001b[38;5;124m\"\u001b[39m\u001b[38;5;124mm8\u001b[39m\u001b[38;5;124m\"\u001b[39m}},\n\u001b[0;32m      7\u001b[0m     {\u001b[38;5;124m\"\u001b[39m\u001b[38;5;124msheets\u001b[39m\u001b[38;5;124m\"\u001b[39m:[\u001b[38;5;124m\"\u001b[39m\u001b[38;5;124mProfil_1\u001b[39m\u001b[38;5;124m\"\u001b[39m, \u001b[38;5;124m\"\u001b[39m\u001b[38;5;124mProfil_2\u001b[39m\u001b[38;5;124m\"\u001b[39m], \u001b[38;5;124m\"\u001b[39m\u001b[38;5;124mcells\u001b[39m\u001b[38;5;124m\"\u001b[39m:{\u001b[38;5;124m\"\u001b[39m\u001b[38;5;124mproject_name\u001b[39m\u001b[38;5;124m\"\u001b[39m: \u001b[38;5;124m\"\u001b[39m\u001b[38;5;124mh7\u001b[39m\u001b[38;5;124m\"\u001b[39m}}\n\u001b[0;32m      8\u001b[0m ]\n\u001b[1;32m---> 11\u001b[0m results \u001b[38;5;241m=\u001b[39m \u001b[43msheet_excavator\u001b[49m\u001b[38;5;241;43m.\u001b[39;49m\u001b[43mexcel_extract\u001b[49m\u001b[43m(\u001b[49m\u001b[43mfiles\u001b[49m\u001b[43m,\u001b[49m\u001b[43m \u001b[49m\u001b[43mextraction_details\u001b[49m\u001b[43m,\u001b[49m\u001b[43m \u001b[49m\u001b[38;5;241;43m10\u001b[39;49m\u001b[43m)\u001b[49m\n\u001b[0;32m     13\u001b[0m \u001b[38;5;28mprint\u001b[39m(results)\n",
      "\u001b[1;31mRuntimeError\u001b[0m: Error processing files: Missing or invalid \"extractions\" key in extraction details"
     ]
    }
   ],
   "source": [
    "import sheet_excavator, glob, json\n",
    "\n",
    "files = glob.glob(r\"D:\\temp\\*\")\n",
    "#files = ['D:\\\\temp\\\\25_2-10 S (Frigg-Gammadelta)_RNB2022.xlsm', 'D:\\\\temp\\\\35_12_2 (Grosbeak)_RNB2022.xlsm', 'D:\\\\temp\\\\Ormen Lange_RNB2022.xlsm', 'D:\\\\temp\\\\Sleipner Vest_RNB2022.xlsm', 'D:\\\\temp\\\\Statfjord_RNB2022.xlsm']\n",
    "extraction_details = [\n",
    "    {\"sheets\":[\"Generell info og kommentarer\"], \"cells\":{\"field\": \"d7\", \"od-id\": \"m8\"}},\n",
    "    {\"sheets\":[\"Profil_1\", \"Profil_2\"], \"cells\":{\"project_name\": \"h7\"}}\n",
    "]\n",
    "\n",
    "\n",
    "results = sheet_excavator.excel_extract(files, extraction_details, 10)\n",
    "\n",
    "print(results)"
   ]
  }
 ],
 "metadata": {
  "kernelspec": {
   "display_name": "venv",
   "language": "python",
   "name": "python3"
  },
  "language_info": {
   "codemirror_mode": {
    "name": "ipython",
    "version": 3
   },
   "file_extension": ".py",
   "mimetype": "text/x-python",
   "name": "python",
   "nbconvert_exporter": "python",
   "pygments_lexer": "ipython3",
   "version": "3.12.2"
  }
 },
 "nbformat": 4,
 "nbformat_minor": 2
}
