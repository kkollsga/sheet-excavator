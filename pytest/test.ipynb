{
 "cells": [
  {
   "cell_type": "code",
   "execution_count": 4,
   "metadata": {},
   "outputs": [
    {
     "name": "stdout",
     "output_type": "stream",
     "text": [
      "['{\"data\":[{\"Generell info og kommentarer\":{\"field\":\" 35/12-2 (Grosbeak)\",\"od-id\":402.0}},{\"Profil_1\":{\"project_name\":\"Grosbeak\"},\"Profil_2\":{\"project_name\":null}}],\"file\":\"D:\\\\\\\\temp\\\\\\\\File2.xlsm\"}', '{\"data\":[{\"Generell info og kommentarer\":{\"field\":\"STATFJORD\",\"od-id\":40.0}},{\"Profil_1\":{\"project_name\":\"Base profile\"},\"Profil_2\":{\"project_name\":\"Infill wells RC 5\"}}],\"file\":\"D:\\\\\\\\temp\\\\\\\\File5.xlsm\"}', '{\"data\":[{\"Generell info og kommentarer\":{\"field\":\"SLEIPNER VEST\",\"od-id\":35.0}},{\"Profil_1\":{\"project_name\":\"Base profile\"},\"Profil_2\":{\"project_name\":\"Delta Sør\"}}],\"file\":\"D:\\\\\\\\temp\\\\\\\\File4.xlsm\"}', '{\"data\":[{\"Generell info og kommentarer\":{\"field\":\"ORMEN LANGE\",\"od-id\":204.0}},{\"Profil_1\":{\"project_name\":\"Ormen Lange\"},\"Profil_2\":{\"project_name\":null}}],\"file\":\"D:\\\\\\\\temp\\\\\\\\File3.xlsm\"}', '{\"data\":[{\"Generell info og kommentarer\":{\"field\":\" 25/2-10 S (Frigg-GammaDelta)\",\"od-id\":292.0}},{\"Profil_1\":{\"project_name\":\"Frigg Gamma\"},\"Profil_2\":{\"project_name\":\"PdQ, Oil & Gas Export, Power from shore\"}}],\"file\":\"D:\\\\\\\\temp\\\\\\\\File1.xlsm\"}']\n"
     ]
    }
   ],
   "source": [
    "import sheet_excavator, glob, json\n",
    "\n",
    "files = glob.glob(r\"D:\\temp\\*\")\n",
    "#files = ['D:\\\\temp\\\\25_2-10 S (Frigg-Gammadelta)_RNB2022.xlsm', 'D:\\\\temp\\\\35_12_2 (Grosbeak)_RNB2022.xlsm', 'D:\\\\temp\\\\Ormen Lange_RNB2022.xlsm', 'D:\\\\temp\\\\Sleipner Vest_RNB2022.xlsm', 'D:\\\\temp\\\\Statfjord_RNB2022.xlsm']\n",
    "extraction_details = [\n",
    "    {\"sheets\":[\"Generell info og kommentarer\"], \"cells\":{\"field\": \"d7\", \"od-id\": \"m8\"}},\n",
    "    {\"sheets\":[\"Profil_1\", \"Profil_2\"], \"cells\":{\"project_name\": \"h7\"}}\n",
    "]\n",
    "\n",
    "\n",
    "results = sheet_excavator.excel_extract(files, extraction_details, 10)\n",
    "\n",
    "print(results)"
   ]
  }
 ],
 "metadata": {
  "kernelspec": {
   "display_name": "venv",
   "language": "python",
   "name": "python3"
  },
  "language_info": {
   "codemirror_mode": {
    "name": "ipython",
    "version": 3
   },
   "file_extension": ".py",
   "mimetype": "text/x-python",
   "name": "python",
   "nbconvert_exporter": "python",
   "pygments_lexer": "ipython3",
   "version": "3.12.2"
  }
 },
 "nbformat": 4,
 "nbformat_minor": 2
}
